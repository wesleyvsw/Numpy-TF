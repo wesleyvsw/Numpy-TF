{
  "nbformat": 4,
  "nbformat_minor": 0,
  "metadata": {
    "colab": {
      "provenance": [],
      "authorship_tag": "ABX9TyMUB2OSgUhLkNrSAS+eaeUh"
    },
    "kernelspec": {
      "name": "python3",
      "display_name": "Python 3"
    },
    "language_info": {
      "name": "python"
    }
  },
  "cells": [
    {
      "cell_type": "markdown",
      "source": [
        "##Numpy \n",
        "Conceitos básicos de manipulação de arrays e matrizes no numpy"
      ],
      "metadata": {
        "id": "HEc-sD1_-pm4"
      }
    },
    {
      "cell_type": "code",
      "execution_count": 1,
      "metadata": {
        "id": "keJTlfmX-oxH"
      },
      "outputs": [],
      "source": [
        "#importando a biblioteca \n",
        "import numpy as np\n"
      ]
    },
    {
      "cell_type": "code",
      "source": [
        "#Criando um array de zeros\n",
        "a = np.zeros(4) # array de 4 zeros\n",
        "a"
      ],
      "metadata": {
        "colab": {
          "base_uri": "https://localhost:8080/"
        },
        "id": "MSPnq-VB_CRN",
        "outputId": "562991da-bf4f-4436-e7d0-382c3851884a"
      },
      "execution_count": 2,
      "outputs": [
        {
          "output_type": "execute_result",
          "data": {
            "text/plain": [
              "array([0., 0., 0., 0.])"
            ]
          },
          "metadata": {},
          "execution_count": 2
        }
      ]
    },
    {
      "cell_type": "markdown",
      "source": [
        "Os arrays do numpy são parecidos com as listas exceto por duas coisas:\n",
        "\n",
        "\n",
        "1.   Os arrays devem possuir os elementos de um mesmo tipo\n",
        "2.   Esses tipos devem ser um dos dtypes fonecidos pelo numpy\n",
        "\n",
        "Por default, o tipo do array é float64, mas podemos manipular e alterar\n",
        "\n",
        "Obs.: Para casos de engenharia, numpy possui a forma complexa (dtype = csingle)\n"
      ],
      "metadata": {
        "id": "N4KckxUF_d6Y"
      }
    },
    {
      "cell_type": "code",
      "source": [
        "type(a[0])"
      ],
      "metadata": {
        "colab": {
          "base_uri": "https://localhost:8080/"
        },
        "id": "spALyz2PAGPC",
        "outputId": "e56a6fdc-27b2-47bb-c6ed-732be5d4fffd"
      },
      "execution_count": 3,
      "outputs": [
        {
          "output_type": "execute_result",
          "data": {
            "text/plain": [
              "numpy.float64"
            ]
          },
          "metadata": {},
          "execution_count": 3
        }
      ]
    },
    {
      "cell_type": "code",
      "source": [
        "a = np.zeros(5,dtype=int)\n",
        "print(a)\n",
        "type(a[0])"
      ],
      "metadata": {
        "colab": {
          "base_uri": "https://localhost:8080/"
        },
        "id": "0WYYIjgv_Ogr",
        "outputId": "52331a1c-d5c9-413f-c2bf-9c36b86f8cfd"
      },
      "execution_count": 4,
      "outputs": [
        {
          "output_type": "stream",
          "name": "stdout",
          "text": [
            "[0 0 0 0 0]\n"
          ]
        },
        {
          "output_type": "execute_result",
          "data": {
            "text/plain": [
              "numpy.int64"
            ]
          },
          "metadata": {},
          "execution_count": 4
        }
      ]
    },
    {
      "cell_type": "code",
      "source": [
        "#dimensao\n",
        "a.shape #não tem dimensão o array\n",
        "#para criar a dimensão, só usar a.shape=(5,1)"
      ],
      "metadata": {
        "colab": {
          "base_uri": "https://localhost:8080/"
        },
        "id": "UY8H90waBlza",
        "outputId": "0ce557b0-dfc0-4c95-fe8a-d89d7620ea4d"
      },
      "execution_count": 5,
      "outputs": [
        {
          "output_type": "execute_result",
          "data": {
            "text/plain": [
              "(5,)"
            ]
          },
          "metadata": {},
          "execution_count": 5
        }
      ]
    },
    {
      "cell_type": "markdown",
      "source": [
        "##Criando Arrays"
      ],
      "metadata": {
        "id": "uj-afCJRCWer"
      }
    },
    {
      "cell_type": "markdown",
      "source": [
        "\n",
        "\n",
        "*   np.linspace(a,b,c) cria um array do valor a até o valor b(com ambos inclusos) com c elementos. No exemplo tem um array  de 1 até 10 com 5 elementos variando de 1 a 10.\n",
        "*   Os elementps entre a e b tem o mesmo intervalo entre um elemento do array e outro\n",
        "*   Para criar um array na 'força bruta' usamos np.array([n1,n2])\n",
        "*   Para criar uma matriz identidate usamos np.identity(n), com n o número de elementos na diagonal\n",
        "* OBS.: Ao criar uma matriz  é necessário colocar cada linha em um colchete separado, além do colchete principal. Ex.: matriz 2x2---> colchete principal e u par de colchetes para cada linha dentro do colchete principal\n"
      ],
      "metadata": {
        "id": "1xh9X0ccC2IF"
      }
    },
    {
      "cell_type": "code",
      "source": [
        "ar_um_a_dez = np.linspace(1,10,5)\n",
        "ar_um_a_dez\n"
      ],
      "metadata": {
        "colab": {
          "base_uri": "https://localhost:8080/"
        },
        "id": "9pkatW2DB1Q6",
        "outputId": "43a60631-45ed-4cac-df31-f6ddf44203cc"
      },
      "execution_count": 6,
      "outputs": [
        {
          "output_type": "execute_result",
          "data": {
            "text/plain": [
              "array([ 1.  ,  3.25,  5.5 ,  7.75, 10.  ])"
            ]
          },
          "metadata": {},
          "execution_count": 6
        }
      ]
    },
    {
      "cell_type": "code",
      "source": [
        "array_aleatorio = np.array([3,5])\n",
        "array_aleatorio"
      ],
      "metadata": {
        "colab": {
          "base_uri": "https://localhost:8080/"
        },
        "id": "hkFXUxlrFWKi",
        "outputId": "4b51ff5a-cbd3-4d4e-f072-6f3f8fcc5a60"
      },
      "execution_count": 7,
      "outputs": [
        {
          "output_type": "execute_result",
          "data": {
            "text/plain": [
              "array([3, 5])"
            ]
          },
          "metadata": {},
          "execution_count": 7
        }
      ]
    },
    {
      "cell_type": "code",
      "source": [
        "#array 2x2\n",
        "dois_dois = np.array([[1,2],[3,4]])\n",
        "dois_dois"
      ],
      "metadata": {
        "colab": {
          "base_uri": "https://localhost:8080/"
        },
        "id": "Wz6u3GY2FlN6",
        "outputId": "6387efb7-6680-45be-a1e3-8b60894f1abf"
      },
      "execution_count": 8,
      "outputs": [
        {
          "output_type": "execute_result",
          "data": {
            "text/plain": [
              "array([[1, 2],\n",
              "       [3, 4]])"
            ]
          },
          "metadata": {},
          "execution_count": 8
        }
      ]
    },
    {
      "cell_type": "code",
      "source": [
        "#matriz identidade 3x3\n",
        "identidade_3 = np.array([[1,0,0],[0,1,0],[0,0,1]])\n",
        "identidade_3"
      ],
      "metadata": {
        "colab": {
          "base_uri": "https://localhost:8080/"
        },
        "id": "ngnfeYZ8GE2l",
        "outputId": "bd4f0e03-e8e4-43c1-e6bd-b22840b08bbc"
      },
      "execution_count": 9,
      "outputs": [
        {
          "output_type": "execute_result",
          "data": {
            "text/plain": [
              "array([[1, 0, 0],\n",
              "       [0, 1, 0],\n",
              "       [0, 0, 1]])"
            ]
          },
          "metadata": {},
          "execution_count": 9
        }
      ]
    },
    {
      "cell_type": "code",
      "source": [
        "identidade_5 = np.identity(5)\n",
        "identidade_5"
      ],
      "metadata": {
        "colab": {
          "base_uri": "https://localhost:8080/"
        },
        "id": "dbPp6lXWC1cD",
        "outputId": "5eb83c05-c7f8-4cca-ca8d-510abbc95eb4"
      },
      "execution_count": 10,
      "outputs": [
        {
          "output_type": "execute_result",
          "data": {
            "text/plain": [
              "array([[1., 0., 0., 0., 0.],\n",
              "       [0., 1., 0., 0., 0.],\n",
              "       [0., 0., 1., 0., 0.],\n",
              "       [0., 0., 0., 1., 0.],\n",
              "       [0., 0., 0., 0., 1.]])"
            ]
          },
          "metadata": {},
          "execution_count": 10
        }
      ]
    },
    {
      "cell_type": "markdown",
      "source": [
        "## Manipulação de arrays"
      ],
      "metadata": {
        "id": "UcVNJ53NHnyT"
      }
    },
    {
      "cell_type": "code",
      "source": [
        "#Escolhendo o primeiro elemento do array == mesma forma de manipulação de listas\n",
        "array_aleatorio[0]"
      ],
      "metadata": {
        "colab": {
          "base_uri": "https://localhost:8080/"
        },
        "id": "Ecf6-8poH0V0",
        "outputId": "f57619b6-88ed-45ea-e5e8-de000c476870"
      },
      "execution_count": 11,
      "outputs": [
        {
          "output_type": "execute_result",
          "data": {
            "text/plain": [
              "3"
            ]
          },
          "metadata": {},
          "execution_count": 11
        }
      ]
    },
    {
      "cell_type": "code",
      "source": [
        "#Escolhendo a partir de um intervalo\n",
        "ar_um_a_dez[0:2]"
      ],
      "metadata": {
        "colab": {
          "base_uri": "https://localhost:8080/"
        },
        "id": "Wgh26zgRNEK_",
        "outputId": "32821499-d382-479d-e8b9-2273e14443fd"
      },
      "execution_count": 12,
      "outputs": [
        {
          "output_type": "execute_result",
          "data": {
            "text/plain": [
              "array([1.  , 3.25])"
            ]
          },
          "metadata": {},
          "execution_count": 12
        }
      ]
    },
    {
      "cell_type": "code",
      "source": [
        "#Agora, com a matriz identidade\n",
        "identidade_3[1,1]#linha dois, coluna 2(lembrar que o elemento inicial é zero)"
      ],
      "metadata": {
        "colab": {
          "base_uri": "https://localhost:8080/"
        },
        "id": "x7oHLn_aNQF4",
        "outputId": "ca85cc22-2952-4025-a509-5e885c205621"
      },
      "execution_count": 13,
      "outputs": [
        {
          "output_type": "execute_result",
          "data": {
            "text/plain": [
              "1"
            ]
          },
          "metadata": {},
          "execution_count": 13
        }
      ]
    },
    {
      "cell_type": "code",
      "source": [
        "#Para escolher uma linha, usamos o seguinte\n",
        "identidade_3[1,:]"
      ],
      "metadata": {
        "colab": {
          "base_uri": "https://localhost:8080/"
        },
        "id": "A8WD89JbNtze",
        "outputId": "afccd8fb-9278-4b86-ea5e-cd73ca8c312f"
      },
      "execution_count": 14,
      "outputs": [
        {
          "output_type": "execute_result",
          "data": {
            "text/plain": [
              "array([0, 1, 0])"
            ]
          },
          "metadata": {},
          "execution_count": 14
        }
      ]
    },
    {
      "cell_type": "code",
      "source": [
        "#Escolhendo uma coluna\n",
        "identidade_3[:,0]"
      ],
      "metadata": {
        "colab": {
          "base_uri": "https://localhost:8080/"
        },
        "id": "NsZCYyE4OH4h",
        "outputId": "19858321-a6dc-41e8-a791-2979958386bf"
      },
      "execution_count": 15,
      "outputs": [
        {
          "output_type": "execute_result",
          "data": {
            "text/plain": [
              "array([1, 0, 0])"
            ]
          },
          "metadata": {},
          "execution_count": 15
        }
      ]
    },
    {
      "cell_type": "markdown",
      "source": [
        "## Alguns métodos com arrays"
      ],
      "metadata": {
        "id": "sPTdQwMiOxQu"
      }
    },
    {
      "cell_type": "markdown",
      "source": [
        "\n",
        "\n",
        "\n",
        "*   Ordenação\n",
        "*   Média\n",
        "*   Máximo\n",
        "*   Soma acumulada\n",
        "*   Outros\n",
        "\n",
        "\n"
      ],
      "metadata": {
        "id": "TW5aHxIdO6mF"
      }
    },
    {
      "cell_type": "code",
      "source": [
        "#Criando meu array de exemplo\n",
        "exemplo = np.array([2,3,5,7,1,4])"
      ],
      "metadata": {
        "id": "2Cej9lcjO2iJ"
      },
      "execution_count": 16,
      "outputs": []
    },
    {
      "cell_type": "code",
      "source": [
        "#Ordenação\n",
        "exemplo.sort()\n",
        "exemplo"
      ],
      "metadata": {
        "colab": {
          "base_uri": "https://localhost:8080/"
        },
        "id": "QxyQEPAQPd8D",
        "outputId": "547e529e-5fa7-4028-9a12-b922319f7260"
      },
      "execution_count": 17,
      "outputs": [
        {
          "output_type": "execute_result",
          "data": {
            "text/plain": [
              "array([1, 2, 3, 4, 5, 7])"
            ]
          },
          "metadata": {},
          "execution_count": 17
        }
      ]
    },
    {
      "cell_type": "code",
      "source": [
        "#soma dos elementos do array\n",
        "exemplo.sum()"
      ],
      "metadata": {
        "colab": {
          "base_uri": "https://localhost:8080/"
        },
        "id": "W3ue-Y8HPmhP",
        "outputId": "461ab0b2-2287-4449-d3a9-a22965c28f22"
      },
      "execution_count": 18,
      "outputs": [
        {
          "output_type": "execute_result",
          "data": {
            "text/plain": [
              "22"
            ]
          },
          "metadata": {},
          "execution_count": 18
        }
      ]
    },
    {
      "cell_type": "code",
      "source": [
        "#media\n",
        "exemplo.mean()"
      ],
      "metadata": {
        "colab": {
          "base_uri": "https://localhost:8080/"
        },
        "id": "gnqcp132Pt8n",
        "outputId": "b99ef30e-cd30-4601-9512-ce087ccdecd7"
      },
      "execution_count": 19,
      "outputs": [
        {
          "output_type": "execute_result",
          "data": {
            "text/plain": [
              "3.6666666666666665"
            ]
          },
          "metadata": {},
          "execution_count": 19
        }
      ]
    },
    {
      "cell_type": "code",
      "source": [
        "#maximo\n",
        "exemplo.max()"
      ],
      "metadata": {
        "colab": {
          "base_uri": "https://localhost:8080/"
        },
        "id": "Mk61Es_wP7qB",
        "outputId": "f70e680b-3ab2-4b3c-d930-26687efef335"
      },
      "execution_count": 20,
      "outputs": [
        {
          "output_type": "execute_result",
          "data": {
            "text/plain": [
              "7"
            ]
          },
          "metadata": {},
          "execution_count": 20
        }
      ]
    },
    {
      "cell_type": "code",
      "source": [
        "#minimo\n",
        "exemplo.min()"
      ],
      "metadata": {
        "colab": {
          "base_uri": "https://localhost:8080/"
        },
        "id": "Q0CK4VXfQDaQ",
        "outputId": "18d384d2-bd3d-404e-a762-77a7474f8526"
      },
      "execution_count": 21,
      "outputs": [
        {
          "output_type": "execute_result",
          "data": {
            "text/plain": [
              "1"
            ]
          },
          "metadata": {},
          "execution_count": 21
        }
      ]
    },
    {
      "cell_type": "code",
      "source": [
        "# soma cumulativa ( usado bastante em probabilidade)\n",
        "exemplo.cumsum()"
      ],
      "metadata": {
        "colab": {
          "base_uri": "https://localhost:8080/"
        },
        "id": "x2kXfsdjQTEe",
        "outputId": "87a51643-b836-4006-c2f2-bb291b7aa8db"
      },
      "execution_count": 22,
      "outputs": [
        {
          "output_type": "execute_result",
          "data": {
            "text/plain": [
              "array([ 1,  3,  6, 10, 15, 22])"
            ]
          },
          "metadata": {},
          "execution_count": 22
        }
      ]
    },
    {
      "cell_type": "code",
      "source": [
        "#produto cumulativo\n",
        "exemplo.cumprod()"
      ],
      "metadata": {
        "colab": {
          "base_uri": "https://localhost:8080/"
        },
        "id": "yKOWWtqYQcA0",
        "outputId": "d37ca92c-cf49-4ae2-a782-a63a9056a291"
      },
      "execution_count": 23,
      "outputs": [
        {
          "output_type": "execute_result",
          "data": {
            "text/plain": [
              "array([  1,   2,   6,  24, 120, 840])"
            ]
          },
          "metadata": {},
          "execution_count": 23
        }
      ]
    },
    {
      "cell_type": "code",
      "source": [
        "#variancia\n",
        "exemplo.var()"
      ],
      "metadata": {
        "colab": {
          "base_uri": "https://localhost:8080/"
        },
        "id": "3LEAC542QvRh",
        "outputId": "f8872a6f-d3f1-4f6a-e014-7308c09bac46"
      },
      "execution_count": 24,
      "outputs": [
        {
          "output_type": "execute_result",
          "data": {
            "text/plain": [
              "3.8888888888888893"
            ]
          },
          "metadata": {},
          "execution_count": 24
        }
      ]
    },
    {
      "cell_type": "code",
      "source": [
        "#desvio padrao\n",
        "exemplo.std()"
      ],
      "metadata": {
        "colab": {
          "base_uri": "https://localhost:8080/"
        },
        "id": "uswQLeS9QzxL",
        "outputId": "f6564c68-ce94-4a10-eb66-2e2673f309b2"
      },
      "execution_count": 25,
      "outputs": [
        {
          "output_type": "execute_result",
          "data": {
            "text/plain": [
              "1.9720265943665387"
            ]
          },
          "metadata": {},
          "execution_count": 25
        }
      ]
    },
    {
      "cell_type": "code",
      "source": [
        "#Agora com uma matriz 2x2\n",
        "exemplo2 = np.array([[1,2],[3,4]])\n",
        "exemplo2.sum()# soma os elementos de toda a matriz"
      ],
      "metadata": {
        "colab": {
          "base_uri": "https://localhost:8080/"
        },
        "id": "zIJmbP36RD2s",
        "outputId": "cfe3ec08-f29d-4768-b83d-888f8440cca8"
      },
      "execution_count": 26,
      "outputs": [
        {
          "output_type": "execute_result",
          "data": {
            "text/plain": [
              "10"
            ]
          },
          "metadata": {},
          "execution_count": 26
        }
      ]
    },
    {
      "cell_type": "code",
      "source": [
        "exemplo2[0].sum()#somando os elementos da primeira linha"
      ],
      "metadata": {
        "colab": {
          "base_uri": "https://localhost:8080/"
        },
        "id": "sQYSVxx4RcUy",
        "outputId": "07ce7a25-1d1d-497d-acac-af5bb9fb9560"
      },
      "execution_count": 27,
      "outputs": [
        {
          "output_type": "execute_result",
          "data": {
            "text/plain": [
              "3"
            ]
          },
          "metadata": {},
          "execution_count": 27
        }
      ]
    },
    {
      "cell_type": "code",
      "source": [
        "exemplo2[:,0].sum()# simando os elementos da primeira coluna"
      ],
      "metadata": {
        "colab": {
          "base_uri": "https://localhost:8080/"
        },
        "id": "bRhvjKnRRr66",
        "outputId": "e622c143-9946-4670-a7f3-b981eab098cb"
      },
      "execution_count": 28,
      "outputs": [
        {
          "output_type": "execute_result",
          "data": {
            "text/plain": [
              "4"
            ]
          },
          "metadata": {},
          "execution_count": 28
        }
      ]
    },
    {
      "cell_type": "code",
      "source": [],
      "metadata": {
        "id": "ZCil5AkmH_3q"
      },
      "execution_count": null,
      "outputs": []
    },
    {
      "cell_type": "markdown",
      "source": [
        "## Operações aritimeticas"
      ],
      "metadata": {
        "id": "egWxb5GnR5ht"
      }
    },
    {
      "cell_type": "code",
      "source": [
        "a = np.array([1,2,3,4])\n",
        "b = np.array([5,6,7,8])\n",
        "c =np.array([[1,2],[3,4]])\n",
        "d = np.array([[5,6],[7,8]])\n"
      ],
      "metadata": {
        "id": "3IKVcSrnIEUz"
      },
      "execution_count": 38,
      "outputs": []
    },
    {
      "cell_type": "code",
      "source": [
        "#soma\n",
        "a+b"
      ],
      "metadata": {
        "colab": {
          "base_uri": "https://localhost:8080/"
        },
        "id": "7k6j99-yIYd2",
        "outputId": "e70fe49b-2122-4b2d-eff5-d7b376a6ec61"
      },
      "execution_count": 30,
      "outputs": [
        {
          "output_type": "execute_result",
          "data": {
            "text/plain": [
              "array([ 6,  8, 10, 12])"
            ]
          },
          "metadata": {},
          "execution_count": 30
        }
      ]
    },
    {
      "cell_type": "code",
      "source": [
        "#multiplicação\n",
        "a*b"
      ],
      "metadata": {
        "colab": {
          "base_uri": "https://localhost:8080/"
        },
        "id": "JWLXKY04IaTB",
        "outputId": "748c9da4-11e8-4d48-b9d4-6d85fe5e2891"
      },
      "execution_count": 31,
      "outputs": [
        {
          "output_type": "execute_result",
          "data": {
            "text/plain": [
              "array([ 5, 12, 21, 32])"
            ]
          },
          "metadata": {},
          "execution_count": 31
        }
      ]
    },
    {
      "cell_type": "code",
      "source": [
        "#divisão\n",
        "a/b"
      ],
      "metadata": {
        "colab": {
          "base_uri": "https://localhost:8080/"
        },
        "id": "Bk00J1Q7IfX_",
        "outputId": "d2c4d5a1-3a86-4c76-9a0b-df5b06a34be4"
      },
      "execution_count": 32,
      "outputs": [
        {
          "output_type": "execute_result",
          "data": {
            "text/plain": [
              "array([0.2       , 0.33333333, 0.42857143, 0.5       ])"
            ]
          },
          "metadata": {},
          "execution_count": 32
        }
      ]
    },
    {
      "cell_type": "code",
      "source": [
        "#Operações são realizadas com formatos iguais\n",
        "#Exemplo 1: a+c vai apresentar erro\n",
        "a+c"
      ],
      "metadata": {
        "colab": {
          "base_uri": "https://localhost:8080/",
          "height": 202
        },
        "id": "j7vHXs_OIx2i",
        "outputId": "d717d284-6fa4-42f3-bf8f-86439e42689a"
      },
      "execution_count": 41,
      "outputs": [
        {
          "output_type": "error",
          "ename": "ValueError",
          "evalue": "ignored",
          "traceback": [
            "\u001b[0;31m---------------------------------------------------------------------------\u001b[0m",
            "\u001b[0;31mValueError\u001b[0m                                Traceback (most recent call last)",
            "\u001b[0;32m<ipython-input-41-4b3ae0d37c7c>\u001b[0m in \u001b[0;36m<module>\u001b[0;34m\u001b[0m\n\u001b[1;32m      1\u001b[0m \u001b[0;31m#Operações são realizadas com formatos iguais\u001b[0m\u001b[0;34m\u001b[0m\u001b[0;34m\u001b[0m\u001b[0;34m\u001b[0m\u001b[0m\n\u001b[1;32m      2\u001b[0m \u001b[0;31m#Exemplo 1: a+c vai apresentar erro\u001b[0m\u001b[0;34m\u001b[0m\u001b[0;34m\u001b[0m\u001b[0;34m\u001b[0m\u001b[0m\n\u001b[0;32m----> 3\u001b[0;31m \u001b[0ma\u001b[0m\u001b[0;34m+\u001b[0m\u001b[0mc\u001b[0m\u001b[0;34m\u001b[0m\u001b[0;34m\u001b[0m\u001b[0m\n\u001b[0m",
            "\u001b[0;31mValueError\u001b[0m: operands could not be broadcast together with shapes (4,) (2,2) "
          ]
        }
      ]
    },
    {
      "cell_type": "code",
      "source": [
        "#Agora, c+d vai funcionar\n",
        "c+d"
      ],
      "metadata": {
        "colab": {
          "base_uri": "https://localhost:8080/"
        },
        "id": "fVfqx6QFJWGw",
        "outputId": "b8d182a7-1517-44ea-ba2e-afab81e6615a"
      },
      "execution_count": 42,
      "outputs": [
        {
          "output_type": "execute_result",
          "data": {
            "text/plain": [
              "array([[ 6,  8],\n",
              "       [10, 12]])"
            ]
          },
          "metadata": {},
          "execution_count": 42
        }
      ]
    },
    {
      "cell_type": "code",
      "source": [
        "#Operação com escalar tem uma forma diferente\n",
        "a+ 5"
      ],
      "metadata": {
        "colab": {
          "base_uri": "https://localhost:8080/"
        },
        "id": "5DVWDSdVIw6M",
        "outputId": "9a246bfc-4bfc-45e1-f99b-262bbc511b29"
      },
      "execution_count": 43,
      "outputs": [
        {
          "output_type": "execute_result",
          "data": {
            "text/plain": [
              "array([6, 7, 8, 9])"
            ]
          },
          "metadata": {},
          "execution_count": 43
        }
      ]
    },
    {
      "cell_type": "code",
      "source": [
        "#Independente da posição\n",
        "c*5"
      ],
      "metadata": {
        "colab": {
          "base_uri": "https://localhost:8080/"
        },
        "id": "0-gQlcWuKE29",
        "outputId": "26fd40d7-c4bf-48b7-e1dc-cefd36f2a8b1"
      },
      "execution_count": 44,
      "outputs": [
        {
          "output_type": "execute_result",
          "data": {
            "text/plain": [
              "array([[ 5, 10],\n",
              "       [15, 20]])"
            ]
          },
          "metadata": {},
          "execution_count": 44
        }
      ]
    },
    {
      "cell_type": "code",
      "source": [],
      "metadata": {
        "id": "D1z_9_zdL4ob"
      },
      "execution_count": null,
      "outputs": []
    },
    {
      "cell_type": "markdown",
      "source": [
        "##Multiplicando Matriz"
      ],
      "metadata": {
        "id": "Ffm-FrFxL7Wc"
      }
    },
    {
      "cell_type": "markdown",
      "source": [
        "* A multiplicação de matrizes é diferente da multiplicação dos elementos das matrizes\n",
        "* Duas matrizes Amn e Bjk onde (m,j) são os números de linhas e (n,k) são os numeros de colunas\n",
        "* A multiplicação entre A e B só acontecerá se o número de colunas em A for igual ao número de linhas em B\n",
        "* A multiplicação entre A e B retornará uma matriz  C com  m linhas e k colunas  "
      ],
      "metadata": {
        "id": "gudem3uQMiaD"
      }
    },
    {
      "cell_type": "code",
      "source": [
        "#Para multiplicar matrizes utilizamos o comando @\n",
        "c@d"
      ],
      "metadata": {
        "colab": {
          "base_uri": "https://localhost:8080/"
        },
        "id": "2K9jaMAlMAKf",
        "outputId": "f5e3fc5e-6394-4d32-d214-d4f1731c0493"
      },
      "execution_count": 45,
      "outputs": [
        {
          "output_type": "execute_result",
          "data": {
            "text/plain": [
              "array([[19, 22],\n",
              "       [43, 50]])"
            ]
          },
          "metadata": {},
          "execution_count": 45
        }
      ]
    },
    {
      "cell_type": "code",
      "source": [
        "#multiplicação de matriz é diferente de c*d. Observe:\n",
        "c*d"
      ],
      "metadata": {
        "colab": {
          "base_uri": "https://localhost:8080/"
        },
        "id": "CLdp83ZKML_O",
        "outputId": "668781ad-bdad-44c6-d838-44731f9039a8"
      },
      "execution_count": 46,
      "outputs": [
        {
          "output_type": "execute_result",
          "data": {
            "text/plain": [
              "array([[ 5, 12],\n",
              "       [21, 32]])"
            ]
          },
          "metadata": {},
          "execution_count": 46
        }
      ]
    },
    {
      "cell_type": "code",
      "source": [
        "#Multiplicando uma matriz 3x2 por uma 2x3\n",
        "\n",
        "A1 = np.array([[1,2],[3,4],[5,6]])\n",
        "B1 = np.array([[1,2,3],[4,5,6]])\n",
        "C1 = np.array([[1,2,3,4],[5,6,7,8]])\n",
        "A1@B1  #Gera uma matriz 3x3"
      ],
      "metadata": {
        "colab": {
          "base_uri": "https://localhost:8080/"
        },
        "id": "KzjWYiM0Mae5",
        "outputId": "9502acf3-9d6e-4dc5-8384-2d046c3a8eb4"
      },
      "execution_count": 49,
      "outputs": [
        {
          "output_type": "execute_result",
          "data": {
            "text/plain": [
              "array([[ 9, 12, 15],\n",
              "       [19, 26, 33],\n",
              "       [29, 40, 51]])"
            ]
          },
          "metadata": {},
          "execution_count": 49
        }
      ]
    },
    {
      "cell_type": "code",
      "source": [
        "B1@A1"
      ],
      "metadata": {
        "colab": {
          "base_uri": "https://localhost:8080/"
        },
        "id": "SI2FmworObik",
        "outputId": "e7ef1ac3-5414-41b9-a423-3ca9980e0382"
      },
      "execution_count": 48,
      "outputs": [
        {
          "output_type": "execute_result",
          "data": {
            "text/plain": [
              "array([[22, 28],\n",
              "       [49, 64]])"
            ]
          },
          "metadata": {},
          "execution_count": 48
        }
      ]
    },
    {
      "cell_type": "code",
      "source": [
        "A1@C1"
      ],
      "metadata": {
        "colab": {
          "base_uri": "https://localhost:8080/"
        },
        "id": "NokiE2lRPDiW",
        "outputId": "919956a8-b788-424b-c1e1-87df93706c37"
      },
      "execution_count": 50,
      "outputs": [
        {
          "output_type": "execute_result",
          "data": {
            "text/plain": [
              "array([[11, 14, 17, 20],\n",
              "       [23, 30, 37, 44],\n",
              "       [35, 46, 57, 68]])"
            ]
          },
          "metadata": {},
          "execution_count": 50
        }
      ]
    },
    {
      "cell_type": "code",
      "source": [
        "# C1@A1 Vvai gerar um erro de dimensão. Para caber na regra, vou usar o transpose\n",
        "C1.transpose()@A1.transpose()"
      ],
      "metadata": {
        "colab": {
          "base_uri": "https://localhost:8080/"
        },
        "id": "WQ48vUz0PLpQ",
        "outputId": "3ca3f5c4-b932-453a-d663-d388ac96962e"
      },
      "execution_count": 59,
      "outputs": [
        {
          "output_type": "execute_result",
          "data": {
            "text/plain": [
              "array([[11, 23, 35],\n",
              "       [14, 30, 46],\n",
              "       [17, 37, 57],\n",
              "       [20, 44, 68]])"
            ]
          },
          "metadata": {},
          "execution_count": 59
        }
      ]
    },
    {
      "cell_type": "code",
      "source": [],
      "metadata": {
        "id": "PVmvwliyT10y"
      },
      "execution_count": null,
      "outputs": []
    },
    {
      "cell_type": "markdown",
      "source": [
        "##Broadcasting"
      ],
      "metadata": {
        "id": "AYww54BBT4mS"
      }
    },
    {
      "cell_type": "markdown",
      "source": [
        "No Broadcasting o numpy 'completa' dados para realizar uma operação\n"
      ],
      "metadata": {
        "id": "-g2nweT_UAnK"
      }
    },
    {
      "cell_type": "code",
      "source": [
        "#Exemplo 1: uma matriz 3x3 somado a um vetor 1x3\n",
        "#Vamos completar o vetor\n",
        "a33 = np.ones((3,3))#preciso colocar o 3,3 entre parenteses para gerar a matriz\n",
        "a33"
      ],
      "metadata": {
        "colab": {
          "base_uri": "https://localhost:8080/"
        },
        "id": "xk5RtdivT_EH",
        "outputId": "716e1352-bddb-4876-b45c-391f9b56ead6"
      },
      "execution_count": 62,
      "outputs": [
        {
          "output_type": "execute_result",
          "data": {
            "text/plain": [
              "array([[1., 1., 1.],\n",
              "       [1., 1., 1.],\n",
              "       [1., 1., 1.]])"
            ]
          },
          "metadata": {},
          "execution_count": 62
        }
      ]
    },
    {
      "cell_type": "code",
      "source": [
        "a13 = np.array([1,2,3])"
      ],
      "metadata": {
        "id": "PdRwwEzQU6-r"
      },
      "execution_count": 64,
      "outputs": []
    },
    {
      "cell_type": "code",
      "source": [
        "#note que a matriz 1x3 vai virar uma matriz 3x3 repetindo os elementos nas linhas 2 e 3\n",
        "a33+a13"
      ],
      "metadata": {
        "colab": {
          "base_uri": "https://localhost:8080/"
        },
        "id": "OAQK0ihZVO_2",
        "outputId": "9ff908d1-0819-484e-b1bf-70f7c1b3763e"
      },
      "execution_count": 65,
      "outputs": [
        {
          "output_type": "execute_result",
          "data": {
            "text/plain": [
              "array([[2., 3., 4.],\n",
              "       [2., 3., 4.],\n",
              "       [2., 3., 4.]])"
            ]
          },
          "metadata": {},
          "execution_count": 65
        }
      ]
    },
    {
      "cell_type": "code",
      "source": [
        "#Agora, com um vetor coluna(matriz 3x1)\n",
        "#Acontece um preenchimento das colunas 2 e 3\n",
        "a31 = np.array([[1],[2],[3]])\n",
        "a33 + a31"
      ],
      "metadata": {
        "colab": {
          "base_uri": "https://localhost:8080/"
        },
        "id": "DZM0FRSBVcrg",
        "outputId": "80fa5908-f58e-4342-8d12-514387c1cd53"
      },
      "execution_count": 72,
      "outputs": [
        {
          "output_type": "execute_result",
          "data": {
            "text/plain": [
              "array([[2., 2., 2.],\n",
              "       [3., 3., 3.],\n",
              "       [4., 4., 4.]])"
            ]
          },
          "metadata": {},
          "execution_count": 72
        }
      ]
    },
    {
      "cell_type": "markdown",
      "source": [
        "## Determinantes, Inversas e Autovalores"
      ],
      "metadata": {
        "id": "RiXYJ-G_WlKg"
      }
    },
    {
      "cell_type": "code",
      "source": [
        "#Lembrando da nossa matriz c 2x2\n",
        "c"
      ],
      "metadata": {
        "colab": {
          "base_uri": "https://localhost:8080/"
        },
        "id": "KXQhoGO4WrTe",
        "outputId": "87ba3f27-76df-4fed-b3d1-d8d1053ee1dd"
      },
      "execution_count": 76,
      "outputs": [
        {
          "output_type": "execute_result",
          "data": {
            "text/plain": [
              "array([[1, 2],\n",
              "       [3, 4]])"
            ]
          },
          "metadata": {},
          "execution_count": 76
        }
      ]
    },
    {
      "cell_type": "code",
      "source": [
        "#Calculando o Determinante\n",
        "np.linalg.det(c)\n"
      ],
      "metadata": {
        "colab": {
          "base_uri": "https://localhost:8080/"
        },
        "id": "foRG9P0BW3Ph",
        "outputId": "7d7553a2-f3e4-42f0-c831-70aaab7dc16b"
      },
      "execution_count": 77,
      "outputs": [
        {
          "output_type": "execute_result",
          "data": {
            "text/plain": [
              "-2.0000000000000004"
            ]
          },
          "metadata": {},
          "execution_count": 77
        }
      ]
    },
    {
      "cell_type": "code",
      "source": [
        "#Calculando a matriz inversa\n",
        "np.linalg.inv(c)"
      ],
      "metadata": {
        "colab": {
          "base_uri": "https://localhost:8080/"
        },
        "id": "ng5MvWfQXJx8",
        "outputId": "9e3ea74f-de20-49c1-9177-2ad2b5a602ec"
      },
      "execution_count": 78,
      "outputs": [
        {
          "output_type": "execute_result",
          "data": {
            "text/plain": [
              "array([[-2. ,  1. ],\n",
              "       [ 1.5, -0.5]])"
            ]
          },
          "metadata": {},
          "execution_count": 78
        }
      ]
    },
    {
      "cell_type": "code",
      "source": [
        "#Calculando autovalores\n",
        "np.linalg.eigvals(c)"
      ],
      "metadata": {
        "colab": {
          "base_uri": "https://localhost:8080/"
        },
        "id": "jKWzQ1KNXXI0",
        "outputId": "bf9ad874-5a7a-433f-91b1-bbb7579afe63"
      },
      "execution_count": 79,
      "outputs": [
        {
          "output_type": "execute_result",
          "data": {
            "text/plain": [
              "array([-0.37228132,  5.37228132])"
            ]
          },
          "metadata": {},
          "execution_count": 79
        }
      ]
    },
    {
      "cell_type": "code",
      "source": [
        "#Resolvendo o sistema linear Ax = b\n",
        "#{ x+2y =1\n",
        "#{3x + 5y = 2\n",
        "a11 = np.array([[1,2],[3,5]])\n",
        "b11 = np.array([1,2])\n",
        "np.linalg.solve(a11,b11)"
      ],
      "metadata": {
        "colab": {
          "base_uri": "https://localhost:8080/"
        },
        "id": "04FDgdI1X0PE",
        "outputId": "17c33118-cab0-48dc-c722-daab7d16446b"
      },
      "execution_count": 81,
      "outputs": [
        {
          "output_type": "execute_result",
          "data": {
            "text/plain": [
              "array([-1.,  1.])"
            ]
          },
          "metadata": {},
          "execution_count": 81
        }
      ]
    }
  ]
}